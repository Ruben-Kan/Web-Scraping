{
 "cells": [
  {
   "cell_type": "code",
   "execution_count": 3,
   "id": "e7cc1415",
   "metadata": {},
   "outputs": [],
   "source": [
    "# import libraries \n",
    "\n",
    "from bs4 import BeautifulSoup\n",
    "import requests\n",
    "import time\n",
    "import datetime\n",
    "import smtplib"
   ]
  },
  {
   "cell_type": "code",
   "execution_count": 2,
   "id": "8de485fb",
   "metadata": {},
   "outputs": [
    {
     "name": "stdout",
     "output_type": "stream",
     "text": [
      "\n",
      "\n",
      "           2020 Apple iMac with Retina 5K Display (27-inch, 8GB RAM, 256GB SSD Storage)\n",
      "          \n",
      "\n",
      "\n",
      "\n",
      "\n",
      "\n",
      "                       $1,729.99\n",
      "                      \n",
      "\n",
      "\n",
      "                        $\n",
      "                       \n",
      "\n",
      "                        1,729\n",
      "                        \n",
      "                         .\n",
      "                        \n",
      "\n",
      "\n",
      "                        99\n",
      "                       \n",
      "\n",
      "\n",
      "\n",
      "\n"
     ]
    }
   ],
   "source": [
    "# Connect to Website and pull in data\n",
    "\n",
    "URL = 'https://www.amazon.com/Apple-Retina-Display-27-inch-Storage/dp/B08F8ZPRGW/ref=sr_1_13?keywords=mac&qid=1659880672&rnid=2941120011&s=pc&sr=1-13'\n",
    "\n",
    "headers = {\"User-Agent\": \"Mozilla/5.0 (Windows NT 10.0; Win64; x64) AppleWebKit/537.36 (KHTML, like Gecko) Chrome/104.0.0.0 Safari/537.36\", \"Accept-Encoding\":\"gzip, deflate\", \"Accept\":\"text/html,application/xhtml+xml,application/xml;q=0.9,*/*;q=0.8\", \"DNT\":\"1\",\"Connection\":\"close\", \"Upgrade-Insecure-Requests\":\"1\"}\n",
    "\n",
    "page = requests.get(URL, headers=headers)\n",
    "\n",
    "soup1 = BeautifulSoup(page.content, \"html.parser\") # Pulls in HTML content of whole page\n",
    "soup2 = BeautifulSoup(soup1.prettify(), \"html.parser\") # Formats soup1 in a \"prettier\" representation\n",
    "\n",
    "title = soup2.find(id='title').get_text()\n",
    "price = soup2.find(id='corePrice_feature_div').get_text()\n",
    "\n",
    "\n",
    "print(title)\n",
    "print(price)\n",
    "\n"
   ]
  },
  {
   "cell_type": "code",
   "execution_count": 3,
   "id": "2c470cea",
   "metadata": {},
   "outputs": [
    {
     "name": "stdout",
     "output_type": "stream",
     "text": [
      "2020 Apple iMac with\n",
      "1,729.99\n"
     ]
    }
   ],
   "source": [
    "price = price.strip()[1:9] #Formatting price for future excel database (More user-friendly without $)\n",
    "title = title.strip()[0:20]\n",
    "\n",
    "print(title)\n",
    "print(price)"
   ]
  },
  {
   "cell_type": "code",
   "execution_count": 4,
   "id": "0641f67d",
   "metadata": {},
   "outputs": [
    {
     "name": "stdout",
     "output_type": "stream",
     "text": [
      "2022-08-07\n"
     ]
    }
   ],
   "source": [
    "# Create a Timestamp for output to track when data was collected\n",
    "\n",
    "import datetime\n",
    "today = datetime.date.today()\n",
    "print(today)"
   ]
  },
  {
   "cell_type": "code",
   "execution_count": 5,
   "id": "f65ee5d4",
   "metadata": {},
   "outputs": [],
   "source": [
    "# Create CSV file and write headers and data into the file\n",
    "\n",
    "import csv \n",
    "\n",
    "header = ['Title', 'Price', 'Date']\n",
    "data = [title, price, today]\n",
    "\n",
    "\n",
    "with open('AmazonWebScraperDataset.csv', 'w', newline='', encoding='UTF8') as f:\n",
    "    writer = csv.writer(f)\n",
    "    writer.writerow(header)\n",
    "    writer.writerow(data)"
   ]
  },
  {
   "cell_type": "code",
   "execution_count": 8,
   "id": "69ed4d25",
   "metadata": {},
   "outputs": [
    {
     "name": "stdout",
     "output_type": "stream",
     "text": [
      "                  Title     Price        Date\n",
      "0  2020 Apple iMac with  1,729.99  2022-08-07\n",
      "1  2020 Apple iMac with  1,729.99  2022-08-07\n"
     ]
    }
   ],
   "source": [
    "import pandas as pd\n",
    "\n",
    "df = pd.read_csv(r'C:\\Users\\Kanne\\AmazonWebScraperDataset.csv') #Read CSV with pandas instead of opening the file each time to see contents\n",
    "\n",
    "print(df)"
   ]
  },
  {
   "cell_type": "code",
   "execution_count": 7,
   "id": "86b5701d",
   "metadata": {},
   "outputs": [],
   "source": [
    "# Appending data to the csv\n",
    "\n",
    "with open('AmazonWebScraperDataset.csv', 'a+', newline='', encoding='UTF8') as f:\n",
    "    writer = csv.writer(f)\n",
    "    writer.writerow(data)"
   ]
  },
  {
   "cell_type": "code",
   "execution_count": 9,
   "id": "7bbd297a",
   "metadata": {},
   "outputs": [],
   "source": [
    "#Combine all of the above code into one function\n",
    "\n",
    "\n",
    "def check_price():\n",
    "    URL = 'https://www.amazon.com/Apple-Retina-Display-27-inch-Storage/dp/B08F8ZPRGW/ref=sr_1_13?keywords=mac&qid=1659880672&rnid=2941120011&s=pc&sr=1-13'\n",
    "\n",
    "    headers = {\"User-Agent\": \"Mozilla/5.0 (Windows NT 10.0; Win64; x64) AppleWebKit/537.36 (KHTML, like Gecko) Chrome/104.0.0.0 Safari/537.36\", \"Accept-Encoding\":\"gzip, deflate\", \"Accept\":\"text/html,application/xhtml+xml,application/xml;q=0.9,*/*;q=0.8\", \"DNT\":\"1\",\"Connection\":\"close\", \"Upgrade-Insecure-Requests\":\"1\"}\n",
    "\n",
    "    page = requests.get(URL, headers=headers)\n",
    "\n",
    "    soup1 = BeautifulSoup(page.content, \"html.parser\") # Pulls in HTML content of whole page\n",
    "    soup2 = BeautifulSoup(soup1.prettify(), \"html.parser\") # Formats soup1 in a \"prettier\" representation\n",
    "\n",
    "    title = soup2.find(id='title').get_text()\n",
    "    price = soup2.find(id='corePrice_feature_div').get_text()\n",
    "\n",
    "    price = price.strip()[1:9] #Formatting price for future excel database (More user-friendly without $)\n",
    "    title = title.strip()[0:20]\n",
    "\n",
    "    import datetime\n",
    "    today = datetime.date.today()\n",
    "    \n",
    "    import csv \n",
    "    header = ['Title', 'Price', 'Date']\n",
    "    data = [title, price, today]\n",
    "\n",
    "    with open('AmazonWebScraperDataset.csv', 'a+', newline='', encoding='UTF8') as f:\n",
    "        writer = csv.writer(f)\n",
    "        writer.writerow(data)\n",
    "        \n",
    "    if (price < 50): #Choose a price to activate email notification of price drop\n",
    "        send_mail()\n",
    " \n",
    "    "
   ]
  },
  {
   "cell_type": "code",
   "execution_count": null,
   "id": "2808515e",
   "metadata": {},
   "outputs": [],
   "source": [
    "# Runs check_price after a set time and inputs data into CSV\n",
    "\n",
    "while(True):\n",
    "    check_price()\n",
    "    time.sleep(5) #Runs the function every 86400 seconds (every day) and appends to the CSV file to monitor price changes"
   ]
  },
  {
   "cell_type": "code",
   "execution_count": 6,
   "id": "fbe80b6d",
   "metadata": {},
   "outputs": [],
   "source": [
    "# Send an email when a price hits below a certain level\n",
    "#This function will not work due to Googles privacy updates as of 2022, extra verification is needed for third party access\n",
    "\n",
    "def send_mail():\n",
    "    server = smtplib.SMTP_SSL('smtp.gmail.com',465)\n",
    "    server.ehlo()\n",
    "    \n",
    "    server.ehlo()\n",
    "    server.login('Kannemeyer.rp@gmail.com','xxxxxxxxxx')\n",
    "    \n",
    "    subject = \"What you want is below a certain price!\"\n",
    "    body = \"URL = 'https://www.amazon.com/Apple-Retina-Display-27-inch-Storage/dp/B08F8ZPRGW/ref=sr_1_13?keywords=mac&qid=1659880672&rnid=2941120011&s=pc&sr=1-13'\n",
    "\"\n",
    "   \n",
    "    msg = f\"Subject: {subject}\\n\\n{body}\"\n",
    "    \n",
    "    server.sendmail(\n",
    "        'Kannemeyer.rp@gmail.com',\n",
    "        msg\n",
    "     \n",
    "    )"
   ]
  },
  {
   "cell_type": "code",
   "execution_count": null,
   "id": "ca3d75a1",
   "metadata": {},
   "outputs": [],
   "source": []
  },
  {
   "cell_type": "code",
   "execution_count": null,
   "id": "5cfb7068",
   "metadata": {},
   "outputs": [],
   "source": []
  }
 ],
 "metadata": {
  "kernelspec": {
   "display_name": "Python 3 (ipykernel)",
   "language": "python",
   "name": "python3"
  },
  "language_info": {
   "codemirror_mode": {
    "name": "ipython",
    "version": 3
   },
   "file_extension": ".py",
   "mimetype": "text/x-python",
   "name": "python",
   "nbconvert_exporter": "python",
   "pygments_lexer": "ipython3",
   "version": "3.9.12"
  }
 },
 "nbformat": 4,
 "nbformat_minor": 5
}
